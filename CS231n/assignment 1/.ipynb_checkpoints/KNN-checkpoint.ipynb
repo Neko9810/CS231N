{
 "cells": [
  {
   "cell_type": "markdown",
   "metadata": {},
   "source": [
    "# 这是作业1中KNN分类器的实现"
   ]
  },
  {
   "cell_type": "code",
   "execution_count": 2,
   "metadata": {},
   "outputs": [],
   "source": [
    "# 获取 CIFAR-10 数据集，并且处理成为train,validation,test 三部分\n",
    "import numpy as np\n",
    "import torch\n",
    "import pickle\n",
    "# 加载 CIFAR-10 数据集\n",
    "# 这里使用的是CIFAR-10 的 data_batch_1 共一万个数据，我自己划分为 train,validation,test 三部分\n",
    "# 前 6000 为training set，接着3000为 validation set 最后1000为 test set\n",
    "\n",
    "def load_train_data(filename):\n",
    "    with open(filename,'rb') as f:\n",
    "        datadict = pickle.load(f,encoding = 'latin1')\n",
    "        X = datadict['data']\n",
    "        Y = datadict['labels']\n",
    "        X = X.reshape(10000,3,32,32)\n",
    "        Y = np.array(Y)\n",
    "        return X,Y\n",
    "    \n",
    "    \n",
    "root = 'data_batch_2'\n",
    "(data, labels) = load_train_data(root)\n",
    "\n",
    "data = data.reshape(10000,3072)\n",
    "train_set = data[0:3000]\n",
    "train_labels = labels[0:3000]\n",
    "\n",
    "val_set = data[6000:6500]\n",
    "val_labels = labels[6000:6500]\n",
    "\n",
    "test_set = data[9000:9500]\n",
    "test_labels = labels[9000:9500]\n",
    "\n"
   ]
  },
  {
   "cell_type": "code",
   "execution_count": 9,
   "metadata": {},
   "outputs": [],
   "source": [
    "# KNN 算法，这是一个10分类问题\n",
    "# 这个KNN与往常的KNN不太一样，是稻草人算法\n",
    "# k为其中的超参数，要通过 val_set 调参\n",
    "class KNN(object):\n",
    "    def __init__(self, f, k=1):\n",
    "        self.k = k\n",
    "        self.dis = f\n",
    "    \n",
    "    def train(self, train_set, train_label):\n",
    "        self.X = train_set\n",
    "        self.y = train_label\n",
    "    \n",
    "    def predict(self, X):\n",
    "        Ypred = np.zeros(X.shape[0])\n",
    "        distance = self.dis(X, self.X)\n",
    "        for i in range(X.shape[0]):\n",
    "            closest = self.y[np.argsort(distance[i])[:self.k]]\n",
    "            Ypred[i]=np.argmax(np.bincount(closest))  \n",
    "        return Ypred, distance\n",
    "            \n",
    "def distance(x, y):\n",
    "    # L2 距离\n",
    "    # 输出结果为一个矩阵，num_x 为行，num_y 为列\n",
    "    # x, y 都是行向量\n",
    "    num_x = x.shape[0]\n",
    "    num_y = y.shape[0]  \n",
    "    dis = np.zeros((num_x,num_y))\n",
    "    d1 = np.sum(np.square(x),axis = 1,keepdims=True).expand(num_x,num_y)\n",
    "    d2 = np.sum(np.square(y),axis = 1).expand(num_x,num_y)\n",
    "    d3 = np.dot(x,y.T) * -2\n",
    "    dis = np.sqrt(d1+d3+d2)\n",
    "    #dis = np.sqrt(d1.reshape(-1,1)+d3+d2)\n",
    "    return dis\n"
   ]
  },
  {
   "cell_type": "code",
   "execution_count": 139,
   "metadata": {
    "scrolled": true
   },
   "outputs": [
    {
     "name": "stdout",
     "output_type": "stream",
     "text": [
      "(500,)\n",
      "k = 5 accuracy in val_set: 54 / 500 == 0.108\n"
     ]
    }
   ],
   "source": [
    "# 调整超参数k的过程\n",
    "K = [1,3,5,8,10,12,15,19]\n",
    "k = 5\n",
    "# for k in K:\n",
    "p = KNN(distance, k)\n",
    "p.train(train_set, train_labels)\n",
    "(Ypred,dist) = p.predict(val_set)\n",
    "print(np.shape(Ypred))\n",
    "count = np.sum(Ypred == val_labels)\n",
    "print ('k = %s accuracy in val_set: %s / %s == %s' % (k,count,len(Ypred),count / len(Ypred)))\n"
   ]
  },
  {
   "cell_type": "code",
   "execution_count": 172,
   "metadata": {
    "scrolled": true
   },
   "outputs": [
    {
     "name": "stdout",
     "output_type": "stream",
     "text": [
      "[[ 4.24264069  7.07106781 10.39230485  5.74456265]\n",
      " [ 4.24264069  5.09901951  8.48528137  3.        ]\n",
      " [ 3.60555128  4.35889894  7.81024968  2.44948974]]\n",
      "10.392304845413264\n",
      "[41 65 64 ... 48 59 50]\n",
      "[ 35  27  25 ... 169 168 168]\n",
      "827.9547089062299\n",
      "8731.501989921322\n"
     ]
    }
   ],
   "source": [
    "A = np.array([[1,2,3],[1,2,9],[1,3,9]])\n",
    "B = np.array([[1,5,6],[4,6,8],[7,8,9],[3,4,8]])\n",
    "dist1 = distance(A,B)\n",
    "print(dist1)\n",
    "print(np.linalg.norm(A[0]-B[2]))\n",
    "\n",
    "dist2 = distance(val_set,train_set)\n",
    "print(val_set[0])\n",
    "print(train_set[0])\n",
    "print(dist2[0][0])\n",
    "print(np.linalg.norm(train_set[2]-val_set[0], dtype))"
   ]
  },
  {
   "cell_type": "code",
   "execution_count": 10,
   "metadata": {},
   "outputs": [
    {
     "name": "stdout",
     "output_type": "stream",
     "text": [
      "(3072,)\n",
      "(1, 3072)\n",
      "[[827.95470891]]\n",
      "2210392727680\n",
      "2210361230960\n",
      "9067.635910202835\n",
      "7159.24053234699\n",
      "9067.635910202835\n",
      "7159.24053234699\n",
      "(3072, 1)\n",
      "(3072, 1)\n"
     ]
    }
   ],
   "source": [
    "print(np.shape(val_set[0]))\n",
    "a = val_set[0].reshape(1,3072)\n",
    "b = train_set[0].reshape(1,3072)\n",
    "print(np.shape(a))\n",
    "print(distance(a,b))\n",
    "a = val_set[0].reshape(3072,1)\n",
    "b = train_set[0].reshape(3072,1)\n",
    "c = a - b\n",
    "d = b - a\n",
    "print(np.linalg.norm(c,ord=2))\n",
    "print(np.linalg.norm(d,ord=2))\n",
    "print(np.linalg.norm(a - b,ord=2))\n",
    "print(np.linalg.norm(b - a,ord=2))\n",
    "print(np.shape(b))\n",
    "print(np.shape(a))"
   ]
  },
  {
   "cell_type": "code",
   "execution_count": 12,
   "metadata": {},
   "outputs": [
    {
     "name": "stdout",
     "output_type": "stream",
     "text": [
      "[[3. 4. 5.]\n",
      " [3. 4. 5.]\n",
      " [3. 4. 5.]]\n",
      "[[3. 3. 3.]\n",
      " [4. 4. 4.]\n",
      " [5. 5. 5.]]\n"
     ]
    }
   ],
   "source": [
    "a = np.ones((3,3))\n",
    "b = np.array([2,3,4])\n",
    "c = np.array([7,7,8])\n",
    "\n",
    "print(a+b)\n",
    "b = np.array([2,3,4]).reshape(-1,1)\n",
    "print(a+b)"
   ]
  },
  {
   "cell_type": "code",
   "execution_count": 17,
   "metadata": {},
   "outputs": [
    {
     "name": "stdout",
     "output_type": "stream",
     "text": [
      "[[2 3 4]]\n",
      "[[7 7 8]]\n",
      "7.54983443527075\n",
      "7.54983443527075\n",
      "(1, 3)\n",
      "[[7.54983444]]\n"
     ]
    }
   ],
   "source": [
    "print(b)\n",
    "print(c)\n",
    "\n",
    "print(np.linalg.norm(b-c))\n",
    "print(np.linalg.norm(c-b))\n",
    "b = b.reshape((1,3))\n",
    "c = c.reshape((1,3))\n",
    "print(np.shape(b))\n",
    "print(distance(b,c))\n",
    "\n"
   ]
  },
  {
   "cell_type": "code",
   "execution_count": null,
   "metadata": {},
   "outputs": [],
   "source": []
  }
 ],
 "metadata": {
  "kernelspec": {
   "display_name": "Python torch",
   "language": "python",
   "name": "torch"
  },
  "language_info": {
   "codemirror_mode": {
    "name": "ipython",
    "version": 3
   },
   "file_extension": ".py",
   "mimetype": "text/x-python",
   "name": "python",
   "nbconvert_exporter": "python",
   "pygments_lexer": "ipython3",
   "version": "3.7.3"
  }
 },
 "nbformat": 4,
 "nbformat_minor": 2
}
