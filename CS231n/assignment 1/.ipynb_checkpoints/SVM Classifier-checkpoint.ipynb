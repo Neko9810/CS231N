{
 "cells": [
  {
   "cell_type": "markdown",
   "metadata": {},
   "source": [
    "# SVM多类分类器"
   ]
  },
  {
   "cell_type": "code",
   "execution_count": 14,
   "metadata": {},
   "outputs": [],
   "source": [
    "# 获取 CIFAR-10 数据集，并且处理成为train,validation,test 三部分\n",
    "import numpy as np\n",
    "import torch\n",
    "import random\n",
    "import pickle\n",
    "# 加载 CIFAR-10 数据集\n",
    "# 这里使用的是CIFAR-10 的 data_batch_1 共一万个数据，我自己划分为 train,validation,test 三部分\n",
    "# 前 6000 为training set，接着3000为 validation set 最后1000为 test set\n",
    "\n",
    "def load_train_data(filename):\n",
    "    with open(filename,'rb') as f:\n",
    "        datadict = pickle.load(f,encoding = 'latin1')\n",
    "        X = datadict['data']\n",
    "        Y = datadict['labels']\n",
    "        X = X.reshape(10000,3,32,32)\n",
    "        Y = np.array(Y)\n",
    "        return X,Y\n",
    "    \n",
    "    \n",
    "root = 'data_batch_1'\n",
    "(data, labels) = load_train_data(root)\n",
    "\n",
    "data = data.reshape(10000,3072)\n",
    "train_set = data[0:3000]\n",
    "train_labels = labels[0:3000]\n",
    "\n",
    "val_set = data[6000:7000]\n",
    "val_labels = labels[6000:7000]\n",
    "\n",
    "test_set = data[9000:9500]\n",
    "test_labels = labels[9000:9500]"
   ]
  },
  {
   "cell_type": "code",
   "execution_count": 1,
   "metadata": {},
   "outputs": [],
   "source": [
    "# 十分类器 SVM 分类器\n",
    "# 尚未加入正则项\n",
    "class SVM(object):\n",
    "    def __init__(self,w,b,rate = 0.5):\n",
    "        # 权重初始化, 更新率为超参数\n",
    "        self.w = w\n",
    "        self.b = b\n",
    "        self.rate = rate\n",
    "        \n",
    "    def __str__(self):\n",
    "        return 'weight:\\t%s\\nbias:\\t%s' % (self.w,self.b)\n",
    "    \n",
    "    def weight(self):\n",
    "        return (self.w,self.b)\n",
    "        \n",
    "    def train(self,train_set, labels, iteration,batch=30):\n",
    "        self.batch = batch\n",
    "        for i in range(iteration):\n",
    "            self.Minibatch_Stochastic_gradient_descent(train_set,labels)# 小批量随机梯度下降\n",
    "            #self.Stochastic_gradient_descent(train_set,labels)# 随机梯度下降\n",
    "                \n",
    "    def Minibatch_Stochastic_gradient_descent(self,train_set,train_labels):\n",
    "        index = random.sample(range(len(train_labels)),self.batch)\n",
    "        data = train_set[index,:]\n",
    "        labels = train_labels[index]\n",
    "        scores = np.dot(self.w,data.T) + b\n",
    "        \n",
    "        # 构造辅助向量 \n",
    "        v = np.zeros((10,self.batch))\n",
    "        for i in range(self.batch):\n",
    "            v[:,i] = (scores[:,i] - scores[labels[i],i] + 1 > 0) + 0\n",
    "            v[labels[i],i] = - np.sum(v[:,i]) + 1\n",
    "        \n",
    "        dw = np.dot(v,data) / self.batch\n",
    "        db = np.mean(v,axis=1).reshape((10,1))\n",
    "        \n",
    "        self.w = self.w - self.rate * dw\n",
    "        self.b = self.b - self.rate * db\n",
    "        \n",
    "    def Stochastic_gradient_descent(self, train_set, labels):\n",
    "        index = random.randint(0,len(train_set)-1)\n",
    "        data = train_set[index,:]\n",
    "        label = labels[index]\n",
    "        # 处理成矩阵\n",
    "        data = data.reshape((3072,1))  # data 3072 * 1\n",
    "             \n",
    "        scores = self.w.dot(data) + self.b# score 10 * 1  \n",
    "        \n",
    "        Loss = np.sum(np.maximum(0,scores - (scores[label]-1)))-1 # 计算 loss 可以用作检测\n",
    "        #print(Loss)\n",
    "        \n",
    "        # 更新过程        \n",
    "        x = (scores - (scores[label]-1) > 0) + 0 # 构造辅助向量 x 10 * 1\n",
    "        x[label] = - np.sum(x) + 1 \n",
    "        \n",
    "        dw = np.dot(x,data.T)\n",
    "        db = x\n",
    "        \n",
    "        self.w = self.w - self.rate * dw\n",
    "        self.b = self.b - self.rate * db\n",
    "        \n",
    "    def predict(self,Xpred):\n",
    "        # 预测模块\n",
    "        print(np.shape(self.b))\n",
    "        Ypred = np.dot(self.w,Xpred.T)+self.b\n",
    "        Ypred = Ypred.argmax(axis=0)\n",
    "        return Ypred\n",
    "                      "
   ]
  },
  {
   "cell_type": "code",
   "execution_count": 40,
   "metadata": {},
   "outputs": [
    {
     "name": "stdout",
     "output_type": "stream",
     "text": [
      "rate:1\taccuracy in val: 175 / 1000 == 0.175\n",
      "rate:0.8\taccuracy in val: 230 / 1000 == 0.23\n",
      "rate:0.6\taccuracy in val: 277 / 1000 == 0.277\n",
      "rate:0.5\taccuracy in val: 238 / 1000 == 0.238\n",
      "rate:0.2\taccuracy in val: 214 / 1000 == 0.214\n",
      "rate:0.1\taccuracy in val: 302 / 1000 == 0.302\n",
      "rate:0.01\taccuracy in val: 248 / 1000 == 0.248\n",
      "rate:0.001\taccuracy in val: 207 / 1000 == 0.207\n"
     ]
    }
   ],
   "source": [
    "# 参数初始化\n",
    "w = np.zeros((10,3072))\n",
    "b = np.zeros((10,1))\n",
    "rate = 0.5\n",
    "\n",
    "# 训练过程\n",
    "for rate in [1,0.8,0.6,0.5,0.2,0.1,1e-2,1e-3]:\n",
    "    p = SVM(w,b,rate)\n",
    "    p.train(train_set,train_labels,10000)\n",
    "    val_pred = p.predict(val_set)\n",
    "    count = np.sum(val_pred == val_labels)\n",
    "    print('rate:%s\\taccuracy in val: %s / %s == %s' % (rate,count, len(val_labels),count/len(val_labels)))"
   ]
  },
  {
   "cell_type": "markdown",
   "metadata": {},
   "source": [
    "## 从上面我们知道rate = 0.1 效果比较好，接下来我们看随着迭代次数增加正确率的变化"
   ]
  },
  {
   "cell_type": "code",
   "execution_count": 47,
   "metadata": {},
   "outputs": [
    {
     "name": "stdout",
     "output_type": "stream",
     "text": [
      "rate:0.1\taccuracy in val: 131 / 1000 == 0.131\n",
      "rate:0.1\taccuracy in val: 155 / 1000 == 0.155\n",
      "rate:0.1\taccuracy in val: 258 / 1000 == 0.258\n",
      "rate:0.1\taccuracy in val: 245 / 1000 == 0.245\n",
      "rate:0.1\taccuracy in val: 202 / 1000 == 0.202\n",
      "rate:0.1\taccuracy in val: 277 / 1000 == 0.277\n",
      "rate:0.1\taccuracy in val: 272 / 1000 == 0.272\n",
      "rate:0.1\taccuracy in val: 270 / 1000 == 0.27\n",
      "rate:0.1\taccuracy in val: 264 / 1000 == 0.264\n"
     ]
    }
   ],
   "source": [
    "# 参数初始化\n",
    "w = np.zeros((10,3072))\n",
    "b = np.zeros((10,1))\n",
    "rate = 0.1\n",
    "iteration = 1000\n",
    "\n",
    "itera = [1000,2000,3000,4000,5000,10000,20000,50000,100000]\n",
    "for iteration in itera:\n",
    "    p = SVM(w,b,rate)\n",
    "    p.train(train_set,train_labels,iteration)\n",
    "    val_pred = p.predict(val_set)\n",
    "    count = np.sum(val_pred == val_labels)\n",
    "    print('rate:%s\\taccuracy in val: %s / %s == %s' % (rate,count, len(val_labels),count/len(val_labels)))"
   ]
  },
  {
   "cell_type": "code",
   "execution_count": 50,
   "metadata": {},
   "outputs": [
    {
     "data": {
      "image/png": "[encoded data removed]",
      "text/plain": [
       "<Figure size 432x288 with 1 Axes>"
      ]
     },
     "metadata": {
      "needs_background": "light"
     },
     "output_type": "display_data"
    },
    {
     "data": {
      "image/png": "[encoded data removed]",
      "text/plain": [
       "<Figure size 432x288 with 1 Axes>"
      ]
     },
     "metadata": {
      "needs_background": "light"
     },
     "output_type": "display_data"
    }
   ],
   "source": [
    "# 绘制准确率曲线\n",
    "import matplotlib.pyplot as plt\n",
    "acc = [0.131,0.155,0.258,0.245,0.202,0.277,0.272,0.27,0.264]\n",
    "plt.figure()\n",
    "plt.plot(itera,acc)\n",
    "plt.show()\n",
    "\n",
    "acc1 = [0.175,0.23,0.277,0.238,0.214,0.302,0.248,0.207]\n",
    "rate1 = [1,0.8,0.6,0.5,0.2,0.1,1e-2,1e-3]\n",
    "plt.figure()\n",
    "plt.plot(rate1,acc1)\n",
    "plt.show()"
   ]
  },
  {
   "cell_type": "markdown",
   "metadata": {},
   "source": [
    "### 选择步长rate = 0.1， 迭代次数 10000 次，在测试集上做测试"
   ]
  },
  {
   "cell_type": "code",
   "execution_count": 51,
   "metadata": {},
   "outputs": [
    {
     "name": "stdout",
     "output_type": "stream",
     "text": [
      "rate:0.1\taccuracy in test: 137 / 500 == 0.274\n"
     ]
    }
   ],
   "source": [
    "# 参数初始化\n",
    "w = np.zeros((10,3072))\n",
    "b = np.zeros((10,1))\n",
    "rate = 0.1\n",
    "iteration = 10000\n",
    "p = SVM(w,b,rate)\n",
    "p.train(train_set,train_labels,iteration)\n",
    "val_pred = p.predict(test_set)\n",
    "count = np.sum(val_pred == test_labels)\n",
    "print('rate:%s\\taccuracy in test: %s / %s == %s' % (rate,count, len(test_labels),count/len(test_labels)))"
   ]
  },
  {
   "cell_type": "markdown",
   "metadata": {},
   "source": [
    "## MGD 方法"
   ]
  },
  {
   "cell_type": "code",
   "execution_count": 41,
   "metadata": {},
   "outputs": [
    {
     "name": "stdout",
     "output_type": "stream",
     "text": [
      "(10, 1)\n",
      "rate:0.1\taccuracy in test: 260 / 1000 == 0.26\n"
     ]
    }
   ],
   "source": [
    "# 小批量随机梯度下降\n",
    "# 参数初始化\n",
    "w = np.zeros((10,3072))\n",
    "b = np.zeros((10,1))\n",
    "rate = 0.1\n",
    "\n",
    "iteration = 1000\n",
    "p = SVM(w,b,rate)\n",
    "p.train(train_set,train_labels,iteration,batch=100)\n",
    "val_pred = p.predict(val_set)\n",
    "count = np.sum(val_pred == val_labels)\n",
    "print('rate:%s\\taccuracy in test: %s / %s == %s' % (rate,count, len(val_labels),count/len(val_labels)))"
   ]
  },
  {
   "cell_type": "code",
   "execution_count": null,
   "metadata": {},
   "outputs": [],
   "source": []
  }
 ],
 "metadata": {
  "kernelspec": {
   "display_name": "Python torch",
   "language": "python",
   "name": "torch"
  },
  "language_info": {
   "codemirror_mode": {
    "name": "ipython",
    "version": 3
   },
   "file_extension": ".py",
   "mimetype": "text/x-python",
   "name": "python",
   "nbconvert_exporter": "python",
   "pygments_lexer": "ipython3",
   "version": "3.7.3"
  }
 },
 "nbformat": 4,
 "nbformat_minor": 2
}
